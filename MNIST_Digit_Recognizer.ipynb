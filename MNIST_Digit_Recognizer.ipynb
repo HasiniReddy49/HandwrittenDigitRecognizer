{
  "nbformat": 4,
  "nbformat_minor": 0,
  "metadata": {
    "colab": {
      "provenance": []
    },
    "kernelspec": {
      "name": "python3",
      "display_name": "Python 3"
    },
    "language_info": {
      "name": "python"
    }
  },
  "cells": [
    {
      "cell_type": "code",
      "execution_count": 2,
      "metadata": {
        "colab": {
          "base_uri": "https://localhost:8080/"
        },
        "id": "V-10pwXznicv",
        "outputId": "f6fced66-5c36-4710-a4b6-fa166f518f75"
      },
      "outputs": [
        {
          "output_type": "stream",
          "name": "stdout",
          "text": [
            "Explained Variance by PCA: 56.15%\n",
            "Model Accuracy for KNN Model with PCA: 95.70%\n"
          ]
        },
        {
          "output_type": "stream",
          "name": "stderr",
          "text": [
            "/usr/local/lib/python3.10/dist-packages/sklearn/svm/_base.py:297: ConvergenceWarning: Solver terminated early (max_iter=100).  Consider pre-processing your data with StandardScaler or MinMaxScaler.\n",
            "  warnings.warn(\n"
          ]
        },
        {
          "output_type": "stream",
          "name": "stdout",
          "text": [
            "SVM Validation Accuracy with PCA: 0.5399\n"
          ]
        },
        {
          "output_type": "stream",
          "name": "stderr",
          "text": [
            "/usr/local/lib/python3.10/dist-packages/sklearn/svm/_base.py:297: ConvergenceWarning: Solver terminated early (max_iter=100).  Consider pre-processing your data with StandardScaler or MinMaxScaler.\n",
            "  warnings.warn(\n"
          ]
        },
        {
          "output_type": "stream",
          "name": "stdout",
          "text": [
            "SVM Validation Accuracy with RBF and PCA: 0.8783\n"
          ]
        },
        {
          "output_type": "stream",
          "name": "stderr",
          "text": [
            "/usr/local/lib/python3.10/dist-packages/keras/src/layers/core/dense.py:87: UserWarning: Do not pass an `input_shape`/`input_dim` argument to a layer. When using Sequential models, prefer using an `Input(shape)` object as the first layer in the model instead.\n",
            "  super().__init__(activity_regularizer=activity_regularizer, **kwargs)\n"
          ]
        },
        {
          "output_type": "stream",
          "name": "stdout",
          "text": [
            "Epoch 1/10\n",
            "\u001b[1m1050/1050\u001b[0m \u001b[32m━━━━━━━━━━━━━━━━━━━━\u001b[0m\u001b[37m\u001b[0m \u001b[1m11s\u001b[0m 7ms/step - accuracy: 0.8061 - loss: 0.6648\n",
            "Epoch 2/10\n",
            "\u001b[1m1050/1050\u001b[0m \u001b[32m━━━━━━━━━━━━━━━━━━━━\u001b[0m\u001b[37m\u001b[0m \u001b[1m5s\u001b[0m 3ms/step - accuracy: 0.9494 - loss: 0.1665\n",
            "Epoch 3/10\n",
            "\u001b[1m1050/1050\u001b[0m \u001b[32m━━━━━━━━━━━━━━━━━━━━\u001b[0m\u001b[37m\u001b[0m \u001b[1m8s\u001b[0m 6ms/step - accuracy: 0.9641 - loss: 0.1127\n",
            "Epoch 4/10\n",
            "\u001b[1m1050/1050\u001b[0m \u001b[32m━━━━━━━━━━━━━━━━━━━━\u001b[0m\u001b[37m\u001b[0m \u001b[1m4s\u001b[0m 3ms/step - accuracy: 0.9705 - loss: 0.0938\n",
            "Epoch 5/10\n",
            "\u001b[1m1050/1050\u001b[0m \u001b[32m━━━━━━━━━━━━━━━━━━━━\u001b[0m\u001b[37m\u001b[0m \u001b[1m2s\u001b[0m 2ms/step - accuracy: 0.9745 - loss: 0.0784\n",
            "Epoch 6/10\n",
            "\u001b[1m1050/1050\u001b[0m \u001b[32m━━━━━━━━━━━━━━━━━━━━\u001b[0m\u001b[37m\u001b[0m \u001b[1m3s\u001b[0m 2ms/step - accuracy: 0.9791 - loss: 0.0689\n",
            "Epoch 7/10\n",
            "\u001b[1m1050/1050\u001b[0m \u001b[32m━━━━━━━━━━━━━━━━━━━━\u001b[0m\u001b[37m\u001b[0m \u001b[1m6s\u001b[0m 3ms/step - accuracy: 0.9819 - loss: 0.0567\n",
            "Epoch 8/10\n",
            "\u001b[1m1050/1050\u001b[0m \u001b[32m━━━━━━━━━━━━━━━━━━━━\u001b[0m\u001b[37m\u001b[0m \u001b[1m3s\u001b[0m 3ms/step - accuracy: 0.9853 - loss: 0.0472\n",
            "Epoch 9/10\n",
            "\u001b[1m1050/1050\u001b[0m \u001b[32m━━━━━━━━━━━━━━━━━━━━\u001b[0m\u001b[37m\u001b[0m \u001b[1m3s\u001b[0m 3ms/step - accuracy: 0.9870 - loss: 0.0411\n",
            "Epoch 10/10\n",
            "\u001b[1m1050/1050\u001b[0m \u001b[32m━━━━━━━━━━━━━━━━━━━━\u001b[0m\u001b[37m\u001b[0m \u001b[1m4s\u001b[0m 2ms/step - accuracy: 0.9862 - loss: 0.0399\n",
            "Neural Network Model Accuracy with PCA: 96.76%\n"
          ]
        }
      ],
      "source": [
        "import numpy as np\n",
        "import pandas as pd\n",
        "import matplotlib.pyplot as plt\n",
        "from sklearn.decomposition import PCA\n",
        "from sklearn.metrics import accuracy_score\n",
        "from sklearn.model_selection import train_test_split\n",
        "from sklearn.neighbors import KNeighborsClassifier\n",
        "from sklearn.svm import SVC\n",
        "from sklearn.preprocessing import StandardScaler\n",
        "from tensorflow.keras.models import Sequential\n",
        "from tensorflow.keras.layers import Dense\n",
        "from tensorflow.keras.utils import to_categorical\n",
        "\n",
        "train_df = pd.read_csv('/content/train.csv')\n",
        "X = train_df.drop('label', axis=1)\n",
        "y = train_df['label']\n",
        "X_train, X_test, y_train, y_test = train_test_split(X, y, test_size=0.2, random_state=33)\n",
        "\n",
        "scaler = StandardScaler()\n",
        "X_train_scaled = scaler.fit_transform(X_train)\n",
        "X_test_scaled = scaler.transform(X_test)\n",
        "\n",
        "pca = PCA(n_components=50)\n",
        "X_train_pca = pca.fit_transform(X_train_scaled)\n",
        "X_test_pca = pca.transform(X_test_scaled)\n",
        "\n",
        "print(f\"Explained Variance by PCA: {sum(pca.explained_variance_ratio_)*100:.2f}%\")\n",
        "\n",
        "\n",
        "classifier = KNeighborsClassifier(n_neighbors=10, metric='minkowski', p=2, weights='distance')\n",
        "classifier.fit(X_train_pca, y_train)\n",
        "y_pred = classifier.predict(X_test_pca)\n",
        "print(f\"Model Accuracy for KNN Model with PCA: {accuracy_score(y_pred, y_test)*100:.2f}%\")\n",
        "\n",
        "svm_model = SVC(kernel='linear', max_iter=100)\n",
        "svm_model.fit(X_train_pca, y_train)\n",
        "y_val_pred = svm_model.predict(X_test_pca)\n",
        "svm_acc = accuracy_score(y_val_pred, y_test)\n",
        "print(f'SVM Validation Accuracy with PCA: {svm_acc:.4f}')\n",
        "\n",
        "svm_model_2 = SVC(kernel='rbf', max_iter=100)\n",
        "svm_model_2.fit(X_train_pca, y_train)\n",
        "pred_y = svm_model_2.predict(X_test_pca)\n",
        "svm_acc2 = accuracy_score(pred_y, y_test)\n",
        "print(f'SVM Validation Accuracy with RBF and PCA: {svm_acc2:.4f}')\n",
        "y_train_encoded = to_categorical(y_train)\n",
        "y_test_encoded = to_categorical(y_test)\n",
        "nn_model = Sequential([\n",
        "    Dense(128, input_dim=X_train_pca.shape[1], activation='relu'),\n",
        "    Dense(64, activation='relu'),\n",
        "    Dense(y_train_encoded.shape[1], activation='softmax')\n",
        "])\n",
        "nn_model.compile(optimizer='adam', loss='categorical_crossentropy', metrics=['accuracy'])\n",
        "history = nn_model.fit(X_train_pca, y_train_encoded, epochs=10, batch_size=32, verbose=1)\n",
        "loss, nn_acc = nn_model.evaluate(X_test_pca, y_test_encoded, verbose=0)\n",
        "print(f'Neural Network Model Accuracy with PCA: {nn_acc*100:.2f}%')\n"
      ]
    },
    {
      "cell_type": "code",
      "source": [],
      "metadata": {
        "id": "kHtgbeWI23H2"
      },
      "execution_count": null,
      "outputs": []
    }
  ]
}